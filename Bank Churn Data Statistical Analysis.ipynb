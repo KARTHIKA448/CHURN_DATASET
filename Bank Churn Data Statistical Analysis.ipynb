{
 "cells": [
  {
   "cell_type": "markdown",
   "id": "e706bb3f",
   "metadata": {},
   "source": [
    "#### Bank Churn Data Statistical Analysis\n"
   ]
  },
  {
   "cell_type": "code",
   "execution_count": null,
   "id": "3a4abb41",
   "metadata": {
    "scrolled": false
   },
   "outputs": [],
   "source": [
    "!dir"
   ]
  },
  {
   "cell_type": "code",
   "execution_count": 1,
   "id": "ef429c85",
   "metadata": {},
   "outputs": [],
   "source": [
    "import warnings\n",
    "warnings.filterwarnings(\"ignore\")"
   ]
  },
  {
   "cell_type": "code",
   "execution_count": 2,
   "id": "7e6e9f61",
   "metadata": {},
   "outputs": [],
   "source": [
    "import pandas as pd"
   ]
  },
  {
   "cell_type": "code",
   "execution_count": 3,
   "id": "c3250373",
   "metadata": {},
   "outputs": [],
   "source": [
    "import matplotlib.pyplot as plt"
   ]
  },
  {
   "cell_type": "code",
   "execution_count": 4,
   "id": "95b974e6",
   "metadata": {},
   "outputs": [],
   "source": [
    "import seaborn as sns"
   ]
  },
  {
   "cell_type": "code",
   "execution_count": 5,
   "id": "43fb9c76",
   "metadata": {},
   "outputs": [
    {
     "data": {
      "text/html": [
       "<div>\n",
       "<style scoped>\n",
       "    .dataframe tbody tr th:only-of-type {\n",
       "        vertical-align: middle;\n",
       "    }\n",
       "\n",
       "    .dataframe tbody tr th {\n",
       "        vertical-align: top;\n",
       "    }\n",
       "\n",
       "    .dataframe thead th {\n",
       "        text-align: right;\n",
       "    }\n",
       "</style>\n",
       "<table border=\"1\" class=\"dataframe\">\n",
       "  <thead>\n",
       "    <tr style=\"text-align: right;\">\n",
       "      <th></th>\n",
       "      <th>CustomerId</th>\n",
       "      <th>Surname</th>\n",
       "      <th>CreditScore</th>\n",
       "      <th>Geography</th>\n",
       "      <th>Gender</th>\n",
       "      <th>Age</th>\n",
       "      <th>Tenure</th>\n",
       "      <th>Balance</th>\n",
       "      <th>NumOfProducts</th>\n",
       "      <th>HasCrCard</th>\n",
       "      <th>IsActiveMember</th>\n",
       "      <th>EstimatedSalary</th>\n",
       "      <th>Exited</th>\n",
       "    </tr>\n",
       "    <tr>\n",
       "      <th>RowNumber</th>\n",
       "      <th></th>\n",
       "      <th></th>\n",
       "      <th></th>\n",
       "      <th></th>\n",
       "      <th></th>\n",
       "      <th></th>\n",
       "      <th></th>\n",
       "      <th></th>\n",
       "      <th></th>\n",
       "      <th></th>\n",
       "      <th></th>\n",
       "      <th></th>\n",
       "      <th></th>\n",
       "    </tr>\n",
       "  </thead>\n",
       "  <tbody>\n",
       "    <tr>\n",
       "      <th>1</th>\n",
       "      <td>15634602</td>\n",
       "      <td>Hargrave</td>\n",
       "      <td>619</td>\n",
       "      <td>France</td>\n",
       "      <td>Female</td>\n",
       "      <td>42</td>\n",
       "      <td>2</td>\n",
       "      <td>0.00</td>\n",
       "      <td>1</td>\n",
       "      <td>1</td>\n",
       "      <td>1</td>\n",
       "      <td>101348.88</td>\n",
       "      <td>1</td>\n",
       "    </tr>\n",
       "    <tr>\n",
       "      <th>2</th>\n",
       "      <td>15647311</td>\n",
       "      <td>Hill</td>\n",
       "      <td>608</td>\n",
       "      <td>Spain</td>\n",
       "      <td>Female</td>\n",
       "      <td>41</td>\n",
       "      <td>1</td>\n",
       "      <td>83807.86</td>\n",
       "      <td>1</td>\n",
       "      <td>0</td>\n",
       "      <td>1</td>\n",
       "      <td>112542.58</td>\n",
       "      <td>0</td>\n",
       "    </tr>\n",
       "    <tr>\n",
       "      <th>3</th>\n",
       "      <td>15619304</td>\n",
       "      <td>Onio</td>\n",
       "      <td>502</td>\n",
       "      <td>France</td>\n",
       "      <td>Female</td>\n",
       "      <td>42</td>\n",
       "      <td>8</td>\n",
       "      <td>159660.80</td>\n",
       "      <td>3</td>\n",
       "      <td>1</td>\n",
       "      <td>0</td>\n",
       "      <td>113931.57</td>\n",
       "      <td>1</td>\n",
       "    </tr>\n",
       "    <tr>\n",
       "      <th>4</th>\n",
       "      <td>15701354</td>\n",
       "      <td>Boni</td>\n",
       "      <td>699</td>\n",
       "      <td>France</td>\n",
       "      <td>Female</td>\n",
       "      <td>39</td>\n",
       "      <td>1</td>\n",
       "      <td>0.00</td>\n",
       "      <td>2</td>\n",
       "      <td>0</td>\n",
       "      <td>0</td>\n",
       "      <td>93826.63</td>\n",
       "      <td>0</td>\n",
       "    </tr>\n",
       "    <tr>\n",
       "      <th>5</th>\n",
       "      <td>15737888</td>\n",
       "      <td>Mitchell</td>\n",
       "      <td>850</td>\n",
       "      <td>Spain</td>\n",
       "      <td>Female</td>\n",
       "      <td>43</td>\n",
       "      <td>2</td>\n",
       "      <td>125510.82</td>\n",
       "      <td>1</td>\n",
       "      <td>1</td>\n",
       "      <td>1</td>\n",
       "      <td>79084.10</td>\n",
       "      <td>0</td>\n",
       "    </tr>\n",
       "    <tr>\n",
       "      <th>...</th>\n",
       "      <td>...</td>\n",
       "      <td>...</td>\n",
       "      <td>...</td>\n",
       "      <td>...</td>\n",
       "      <td>...</td>\n",
       "      <td>...</td>\n",
       "      <td>...</td>\n",
       "      <td>...</td>\n",
       "      <td>...</td>\n",
       "      <td>...</td>\n",
       "      <td>...</td>\n",
       "      <td>...</td>\n",
       "      <td>...</td>\n",
       "    </tr>\n",
       "    <tr>\n",
       "      <th>9996</th>\n",
       "      <td>15606229</td>\n",
       "      <td>Obijiaku</td>\n",
       "      <td>771</td>\n",
       "      <td>France</td>\n",
       "      <td>Male</td>\n",
       "      <td>39</td>\n",
       "      <td>5</td>\n",
       "      <td>0.00</td>\n",
       "      <td>2</td>\n",
       "      <td>1</td>\n",
       "      <td>0</td>\n",
       "      <td>96270.64</td>\n",
       "      <td>0</td>\n",
       "    </tr>\n",
       "    <tr>\n",
       "      <th>9997</th>\n",
       "      <td>15569892</td>\n",
       "      <td>Johnstone</td>\n",
       "      <td>516</td>\n",
       "      <td>France</td>\n",
       "      <td>Male</td>\n",
       "      <td>35</td>\n",
       "      <td>10</td>\n",
       "      <td>57369.61</td>\n",
       "      <td>1</td>\n",
       "      <td>1</td>\n",
       "      <td>1</td>\n",
       "      <td>101699.77</td>\n",
       "      <td>0</td>\n",
       "    </tr>\n",
       "    <tr>\n",
       "      <th>9998</th>\n",
       "      <td>15584532</td>\n",
       "      <td>Liu</td>\n",
       "      <td>709</td>\n",
       "      <td>France</td>\n",
       "      <td>Female</td>\n",
       "      <td>36</td>\n",
       "      <td>7</td>\n",
       "      <td>0.00</td>\n",
       "      <td>1</td>\n",
       "      <td>0</td>\n",
       "      <td>1</td>\n",
       "      <td>42085.58</td>\n",
       "      <td>1</td>\n",
       "    </tr>\n",
       "    <tr>\n",
       "      <th>9999</th>\n",
       "      <td>15682355</td>\n",
       "      <td>Sabbatini</td>\n",
       "      <td>772</td>\n",
       "      <td>Germany</td>\n",
       "      <td>Male</td>\n",
       "      <td>42</td>\n",
       "      <td>3</td>\n",
       "      <td>75075.31</td>\n",
       "      <td>2</td>\n",
       "      <td>1</td>\n",
       "      <td>0</td>\n",
       "      <td>92888.52</td>\n",
       "      <td>1</td>\n",
       "    </tr>\n",
       "    <tr>\n",
       "      <th>10000</th>\n",
       "      <td>15628319</td>\n",
       "      <td>Walker</td>\n",
       "      <td>792</td>\n",
       "      <td>France</td>\n",
       "      <td>Female</td>\n",
       "      <td>28</td>\n",
       "      <td>4</td>\n",
       "      <td>130142.79</td>\n",
       "      <td>1</td>\n",
       "      <td>1</td>\n",
       "      <td>0</td>\n",
       "      <td>38190.78</td>\n",
       "      <td>0</td>\n",
       "    </tr>\n",
       "  </tbody>\n",
       "</table>\n",
       "<p>10000 rows × 13 columns</p>\n",
       "</div>"
      ],
      "text/plain": [
       "           CustomerId    Surname  CreditScore Geography  Gender  Age  Tenure  \\\n",
       "RowNumber                                                                      \n",
       "1            15634602   Hargrave          619    France  Female   42       2   \n",
       "2            15647311       Hill          608     Spain  Female   41       1   \n",
       "3            15619304       Onio          502    France  Female   42       8   \n",
       "4            15701354       Boni          699    France  Female   39       1   \n",
       "5            15737888   Mitchell          850     Spain  Female   43       2   \n",
       "...               ...        ...          ...       ...     ...  ...     ...   \n",
       "9996         15606229   Obijiaku          771    France    Male   39       5   \n",
       "9997         15569892  Johnstone          516    France    Male   35      10   \n",
       "9998         15584532        Liu          709    France  Female   36       7   \n",
       "9999         15682355  Sabbatini          772   Germany    Male   42       3   \n",
       "10000        15628319     Walker          792    France  Female   28       4   \n",
       "\n",
       "             Balance  NumOfProducts  HasCrCard  IsActiveMember  \\\n",
       "RowNumber                                                        \n",
       "1               0.00              1          1               1   \n",
       "2           83807.86              1          0               1   \n",
       "3          159660.80              3          1               0   \n",
       "4               0.00              2          0               0   \n",
       "5          125510.82              1          1               1   \n",
       "...              ...            ...        ...             ...   \n",
       "9996            0.00              2          1               0   \n",
       "9997        57369.61              1          1               1   \n",
       "9998            0.00              1          0               1   \n",
       "9999        75075.31              2          1               0   \n",
       "10000      130142.79              1          1               0   \n",
       "\n",
       "           EstimatedSalary  Exited  \n",
       "RowNumber                           \n",
       "1                101348.88       1  \n",
       "2                112542.58       0  \n",
       "3                113931.57       1  \n",
       "4                 93826.63       0  \n",
       "5                 79084.10       0  \n",
       "...                    ...     ...  \n",
       "9996              96270.64       0  \n",
       "9997             101699.77       0  \n",
       "9998              42085.58       1  \n",
       "9999              92888.52       1  \n",
       "10000             38190.78       0  \n",
       "\n",
       "[10000 rows x 13 columns]"
      ]
     },
     "execution_count": 5,
     "metadata": {},
     "output_type": "execute_result"
    }
   ],
   "source": [
    "churn = pd.read_csv(\"Churn_Modelling.csv.xls\",index_col=[0])\n",
    "churn"
   ]
  },
  {
   "cell_type": "code",
   "execution_count": 6,
   "id": "8a260db7",
   "metadata": {
    "scrolled": true
   },
   "outputs": [
    {
     "data": {
      "text/plain": [
       "Index(['CustomerId', 'Surname', 'CreditScore', 'Geography', 'Gender', 'Age',\n",
       "       'Tenure', 'Balance', 'NumOfProducts', 'HasCrCard', 'IsActiveMember',\n",
       "       'EstimatedSalary', 'Exited'],\n",
       "      dtype='object')"
      ]
     },
     "execution_count": 6,
     "metadata": {},
     "output_type": "execute_result"
    }
   ],
   "source": [
    "churn.columns"
   ]
  },
  {
   "cell_type": "markdown",
   "id": "73b0a0cc",
   "metadata": {},
   "source": [
    "the dataset contains:\n",
    "\n",
    "        * RowNumber - RowNumber\n",
    "        * CustomerId- customer id\n",
    "        * Surname - name of the customer\n",
    "        * CreditScore -credit score\n",
    "        * Geography - location\n",
    "        * Gender - gender of the customer\n",
    "        * Age - age of the customer\n",
    "        * Tenure - The number of years the customer has been with the bank, indicating customer loyalty.\n",
    "        * Balance - The account balance of the customer.\n",
    "        * NumOfProducts - The number of bank products the customer uses, indicating their level of engagement with the bank.\n",
    "        * HasCrCard - Whether the customer has a credit card\n",
    "        * IsActiveMember - Whether the customer is an active member of the bank \n",
    "        * EstimatedSalary -The estimated salary of the customer\n",
    "        * Exited - whether the customer is churned(left) or non churned (stayed)"
   ]
  },
  {
   "cell_type": "markdown",
   "id": "1ba4f843",
   "metadata": {},
   "source": [
    "###### **1** What is the overall churn rate in the dataset, and how does it compare to industry benchmarks?"
   ]
  },
  {
   "cell_type": "code",
   "execution_count": 7,
   "id": "840bbff2",
   "metadata": {},
   "outputs": [
    {
     "data": {
      "text/plain": [
       "0    7963\n",
       "1    2037\n",
       "Name: Exited, dtype: int64"
      ]
     },
     "execution_count": 7,
     "metadata": {},
     "output_type": "execute_result"
    }
   ],
   "source": [
    "churn[\"Exited\"].value_counts() # 1 indicate customer has churned(left the service) \n",
    "                               # 0 indicate customer has not churned(stayed with| the service) "
   ]
  },
  {
   "cell_type": "code",
   "execution_count": null,
   "id": "64c660d3",
   "metadata": {},
   "outputs": [],
   "source": [
    "# Churn Rate = (Total Number of Customers/Number of Churned Customers) ×100%"
   ]
  },
  {
   "cell_type": "code",
   "execution_count": null,
   "id": "c80a3241",
   "metadata": {},
   "outputs": [],
   "source": [
    "churn_rate = (2037/10000)*100\n",
    "churn_rate"
   ]
  },
  {
   "cell_type": "markdown",
   "id": "7f5a245d",
   "metadata": {},
   "source": [
    "* the overall churn rate in the dataset is 20.369999999999997"
   ]
  },
  {
   "cell_type": "markdown",
   "id": "4a517c7d",
   "metadata": {},
   "source": [
    "industry - bank"
   ]
  },
  {
   "cell_type": "code",
   "execution_count": 13,
   "id": "b8167cdd",
   "metadata": {},
   "outputs": [],
   "source": [
    "# industry benchmark is less than 5-10%"
   ]
  },
  {
   "cell_type": "markdown",
   "id": "36f41a65",
   "metadata": {},
   "source": [
    "that is our churn rate is higher,we need to improve some features"
   ]
  },
  {
   "cell_type": "code",
   "execution_count": null,
   "id": "e40da572",
   "metadata": {},
   "outputs": [],
   "source": []
  },
  {
   "cell_type": "code",
   "execution_count": 14,
   "id": "65f19f77",
   "metadata": {
    "scrolled": true
   },
   "outputs": [
    {
     "data": {
      "text/plain": [
       "France     5014\n",
       "Germany    2509\n",
       "Spain      2477\n",
       "Name: Geography, dtype: int64"
      ]
     },
     "execution_count": 14,
     "metadata": {},
     "output_type": "execute_result"
    }
   ],
   "source": [
    "churn[\"Geography\"].value_counts()"
   ]
  },
  {
   "cell_type": "code",
   "execution_count": 15,
   "id": "65352c90",
   "metadata": {},
   "outputs": [],
   "source": [
    "country_grp = churn.groupby(\"Geography\")"
   ]
  },
  {
   "cell_type": "code",
   "execution_count": 16,
   "id": "5d88853b",
   "metadata": {},
   "outputs": [
    {
     "data": {
      "text/plain": [
       "0    4204\n",
       "1     810\n",
       "Name: Exited, dtype: int64"
      ]
     },
     "execution_count": 16,
     "metadata": {},
     "output_type": "execute_result"
    }
   ],
   "source": [
    "country_grp[\"Exited\"].get_group(\"France\").value_counts()"
   ]
  },
  {
   "cell_type": "code",
   "execution_count": 17,
   "id": "dd1fa63e",
   "metadata": {
    "scrolled": true
   },
   "outputs": [
    {
     "data": {
      "text/plain": [
       "0    1695\n",
       "1     814\n",
       "Name: Exited, dtype: int64"
      ]
     },
     "execution_count": 17,
     "metadata": {},
     "output_type": "execute_result"
    }
   ],
   "source": [
    "country_grp[\"Exited\"].get_group(\"Germany\").value_counts()"
   ]
  },
  {
   "cell_type": "code",
   "execution_count": 18,
   "id": "e02d52fb",
   "metadata": {},
   "outputs": [
    {
     "data": {
      "text/plain": [
       "0    2064\n",
       "1     413\n",
       "Name: Exited, dtype: int64"
      ]
     },
     "execution_count": 18,
     "metadata": {},
     "output_type": "execute_result"
    }
   ],
   "source": [
    "country_grp[\"Exited\"].get_group(\"Spain\").value_counts()"
   ]
  },
  {
   "cell_type": "markdown",
   "id": "ef1a700a",
   "metadata": {},
   "source": [
    "    *customers from France,4204 has stayed with the bank and 810 has churned \n",
    "    *customers from Germany,1695 has stayed with the bank and 814 has churned \n",
    "    *customers from Spain,2064 has stayed with the bank and 413 has churned "
   ]
  },
  {
   "cell_type": "markdown",
   "id": "8829fb7a",
   "metadata": {},
   "source": [
    "###### **2** Can you identify any significant differences in spending patterns between churned and non\u0002churned customers using measures of central tendency?"
   ]
  },
  {
   "cell_type": "markdown",
   "id": "c467f556",
   "metadata": {},
   "source": [
    "**churned** (dataset with customers who left the bank)"
   ]
  },
  {
   "cell_type": "code",
   "execution_count": 19,
   "id": "2d30dddd",
   "metadata": {
    "collapsed": true
   },
   "outputs": [
    {
     "data": {
      "text/html": [
       "<div>\n",
       "<style scoped>\n",
       "    .dataframe tbody tr th:only-of-type {\n",
       "        vertical-align: middle;\n",
       "    }\n",
       "\n",
       "    .dataframe tbody tr th {\n",
       "        vertical-align: top;\n",
       "    }\n",
       "\n",
       "    .dataframe thead th {\n",
       "        text-align: right;\n",
       "    }\n",
       "</style>\n",
       "<table border=\"1\" class=\"dataframe\">\n",
       "  <thead>\n",
       "    <tr style=\"text-align: right;\">\n",
       "      <th></th>\n",
       "      <th>CustomerId</th>\n",
       "      <th>Surname</th>\n",
       "      <th>CreditScore</th>\n",
       "      <th>Geography</th>\n",
       "      <th>Gender</th>\n",
       "      <th>Age</th>\n",
       "      <th>Tenure</th>\n",
       "      <th>Balance</th>\n",
       "      <th>NumOfProducts</th>\n",
       "      <th>HasCrCard</th>\n",
       "      <th>IsActiveMember</th>\n",
       "      <th>EstimatedSalary</th>\n",
       "      <th>Exited</th>\n",
       "    </tr>\n",
       "    <tr>\n",
       "      <th>RowNumber</th>\n",
       "      <th></th>\n",
       "      <th></th>\n",
       "      <th></th>\n",
       "      <th></th>\n",
       "      <th></th>\n",
       "      <th></th>\n",
       "      <th></th>\n",
       "      <th></th>\n",
       "      <th></th>\n",
       "      <th></th>\n",
       "      <th></th>\n",
       "      <th></th>\n",
       "      <th></th>\n",
       "    </tr>\n",
       "  </thead>\n",
       "  <tbody>\n",
       "    <tr>\n",
       "      <th>1</th>\n",
       "      <td>15634602</td>\n",
       "      <td>Hargrave</td>\n",
       "      <td>619</td>\n",
       "      <td>France</td>\n",
       "      <td>Female</td>\n",
       "      <td>42</td>\n",
       "      <td>2</td>\n",
       "      <td>0.00</td>\n",
       "      <td>1</td>\n",
       "      <td>1</td>\n",
       "      <td>1</td>\n",
       "      <td>101348.88</td>\n",
       "      <td>1</td>\n",
       "    </tr>\n",
       "    <tr>\n",
       "      <th>3</th>\n",
       "      <td>15619304</td>\n",
       "      <td>Onio</td>\n",
       "      <td>502</td>\n",
       "      <td>France</td>\n",
       "      <td>Female</td>\n",
       "      <td>42</td>\n",
       "      <td>8</td>\n",
       "      <td>159660.80</td>\n",
       "      <td>3</td>\n",
       "      <td>1</td>\n",
       "      <td>0</td>\n",
       "      <td>113931.57</td>\n",
       "      <td>1</td>\n",
       "    </tr>\n",
       "    <tr>\n",
       "      <th>6</th>\n",
       "      <td>15574012</td>\n",
       "      <td>Chu</td>\n",
       "      <td>645</td>\n",
       "      <td>Spain</td>\n",
       "      <td>Male</td>\n",
       "      <td>44</td>\n",
       "      <td>8</td>\n",
       "      <td>113755.78</td>\n",
       "      <td>2</td>\n",
       "      <td>1</td>\n",
       "      <td>0</td>\n",
       "      <td>149756.71</td>\n",
       "      <td>1</td>\n",
       "    </tr>\n",
       "    <tr>\n",
       "      <th>8</th>\n",
       "      <td>15656148</td>\n",
       "      <td>Obinna</td>\n",
       "      <td>376</td>\n",
       "      <td>Germany</td>\n",
       "      <td>Female</td>\n",
       "      <td>29</td>\n",
       "      <td>4</td>\n",
       "      <td>115046.74</td>\n",
       "      <td>4</td>\n",
       "      <td>1</td>\n",
       "      <td>0</td>\n",
       "      <td>119346.88</td>\n",
       "      <td>1</td>\n",
       "    </tr>\n",
       "    <tr>\n",
       "      <th>17</th>\n",
       "      <td>15737452</td>\n",
       "      <td>Romeo</td>\n",
       "      <td>653</td>\n",
       "      <td>Germany</td>\n",
       "      <td>Male</td>\n",
       "      <td>58</td>\n",
       "      <td>1</td>\n",
       "      <td>132602.88</td>\n",
       "      <td>1</td>\n",
       "      <td>1</td>\n",
       "      <td>0</td>\n",
       "      <td>5097.67</td>\n",
       "      <td>1</td>\n",
       "    </tr>\n",
       "    <tr>\n",
       "      <th>...</th>\n",
       "      <td>...</td>\n",
       "      <td>...</td>\n",
       "      <td>...</td>\n",
       "      <td>...</td>\n",
       "      <td>...</td>\n",
       "      <td>...</td>\n",
       "      <td>...</td>\n",
       "      <td>...</td>\n",
       "      <td>...</td>\n",
       "      <td>...</td>\n",
       "      <td>...</td>\n",
       "      <td>...</td>\n",
       "      <td>...</td>\n",
       "    </tr>\n",
       "    <tr>\n",
       "      <th>9982</th>\n",
       "      <td>15672754</td>\n",
       "      <td>Burbidge</td>\n",
       "      <td>498</td>\n",
       "      <td>Germany</td>\n",
       "      <td>Male</td>\n",
       "      <td>42</td>\n",
       "      <td>3</td>\n",
       "      <td>152039.70</td>\n",
       "      <td>1</td>\n",
       "      <td>1</td>\n",
       "      <td>1</td>\n",
       "      <td>53445.17</td>\n",
       "      <td>1</td>\n",
       "    </tr>\n",
       "    <tr>\n",
       "      <th>9983</th>\n",
       "      <td>15768163</td>\n",
       "      <td>Griffin</td>\n",
       "      <td>655</td>\n",
       "      <td>Germany</td>\n",
       "      <td>Female</td>\n",
       "      <td>46</td>\n",
       "      <td>7</td>\n",
       "      <td>137145.12</td>\n",
       "      <td>1</td>\n",
       "      <td>1</td>\n",
       "      <td>0</td>\n",
       "      <td>115146.40</td>\n",
       "      <td>1</td>\n",
       "    </tr>\n",
       "    <tr>\n",
       "      <th>9992</th>\n",
       "      <td>15769959</td>\n",
       "      <td>Ajuluchukwu</td>\n",
       "      <td>597</td>\n",
       "      <td>France</td>\n",
       "      <td>Female</td>\n",
       "      <td>53</td>\n",
       "      <td>4</td>\n",
       "      <td>88381.21</td>\n",
       "      <td>1</td>\n",
       "      <td>1</td>\n",
       "      <td>0</td>\n",
       "      <td>69384.71</td>\n",
       "      <td>1</td>\n",
       "    </tr>\n",
       "    <tr>\n",
       "      <th>9998</th>\n",
       "      <td>15584532</td>\n",
       "      <td>Liu</td>\n",
       "      <td>709</td>\n",
       "      <td>France</td>\n",
       "      <td>Female</td>\n",
       "      <td>36</td>\n",
       "      <td>7</td>\n",
       "      <td>0.00</td>\n",
       "      <td>1</td>\n",
       "      <td>0</td>\n",
       "      <td>1</td>\n",
       "      <td>42085.58</td>\n",
       "      <td>1</td>\n",
       "    </tr>\n",
       "    <tr>\n",
       "      <th>9999</th>\n",
       "      <td>15682355</td>\n",
       "      <td>Sabbatini</td>\n",
       "      <td>772</td>\n",
       "      <td>Germany</td>\n",
       "      <td>Male</td>\n",
       "      <td>42</td>\n",
       "      <td>3</td>\n",
       "      <td>75075.31</td>\n",
       "      <td>2</td>\n",
       "      <td>1</td>\n",
       "      <td>0</td>\n",
       "      <td>92888.52</td>\n",
       "      <td>1</td>\n",
       "    </tr>\n",
       "  </tbody>\n",
       "</table>\n",
       "<p>2037 rows × 13 columns</p>\n",
       "</div>"
      ],
      "text/plain": [
       "           CustomerId      Surname  CreditScore Geography  Gender  Age  \\\n",
       "RowNumber                                                                \n",
       "1            15634602     Hargrave          619    France  Female   42   \n",
       "3            15619304         Onio          502    France  Female   42   \n",
       "6            15574012          Chu          645     Spain    Male   44   \n",
       "8            15656148       Obinna          376   Germany  Female   29   \n",
       "17           15737452        Romeo          653   Germany    Male   58   \n",
       "...               ...          ...          ...       ...     ...  ...   \n",
       "9982         15672754     Burbidge          498   Germany    Male   42   \n",
       "9983         15768163      Griffin          655   Germany  Female   46   \n",
       "9992         15769959  Ajuluchukwu          597    France  Female   53   \n",
       "9998         15584532          Liu          709    France  Female   36   \n",
       "9999         15682355    Sabbatini          772   Germany    Male   42   \n",
       "\n",
       "           Tenure    Balance  NumOfProducts  HasCrCard  IsActiveMember  \\\n",
       "RowNumber                                                                \n",
       "1               2       0.00              1          1               1   \n",
       "3               8  159660.80              3          1               0   \n",
       "6               8  113755.78              2          1               0   \n",
       "8               4  115046.74              4          1               0   \n",
       "17              1  132602.88              1          1               0   \n",
       "...           ...        ...            ...        ...             ...   \n",
       "9982            3  152039.70              1          1               1   \n",
       "9983            7  137145.12              1          1               0   \n",
       "9992            4   88381.21              1          1               0   \n",
       "9998            7       0.00              1          0               1   \n",
       "9999            3   75075.31              2          1               0   \n",
       "\n",
       "           EstimatedSalary  Exited  \n",
       "RowNumber                           \n",
       "1                101348.88       1  \n",
       "3                113931.57       1  \n",
       "6                149756.71       1  \n",
       "8                119346.88       1  \n",
       "17                 5097.67       1  \n",
       "...                    ...     ...  \n",
       "9982              53445.17       1  \n",
       "9983             115146.40       1  \n",
       "9992              69384.71       1  \n",
       "9998              42085.58       1  \n",
       "9999              92888.52       1  \n",
       "\n",
       "[2037 rows x 13 columns]"
      ]
     },
     "execution_count": 19,
     "metadata": {},
     "output_type": "execute_result"
    }
   ],
   "source": [
    "churned = churn[churn[\"Exited\"]==1] # churned dataset\n",
    "churned"
   ]
  },
  {
   "cell_type": "code",
   "execution_count": 20,
   "id": "200689eb",
   "metadata": {},
   "outputs": [
    {
     "data": {
      "text/plain": [
       "101465.67753068237"
      ]
     },
     "execution_count": 20,
     "metadata": {},
     "output_type": "execute_result"
    }
   ],
   "source": [
    "churned[\"EstimatedSalary\"].mean()"
   ]
  },
  {
   "cell_type": "code",
   "execution_count": 21,
   "id": "5af6a37e",
   "metadata": {},
   "outputs": [
    {
     "data": {
      "text/plain": [
       "1.0"
      ]
     },
     "execution_count": 21,
     "metadata": {},
     "output_type": "execute_result"
    }
   ],
   "source": [
    "churned[\"Exited\"].median()"
   ]
  },
  {
   "cell_type": "code",
   "execution_count": 22,
   "id": "b8eb8589",
   "metadata": {},
   "outputs": [
    {
     "data": {
      "text/plain": [
       "0    1\n",
       "Name: Exited, dtype: int64"
      ]
     },
     "execution_count": 22,
     "metadata": {},
     "output_type": "execute_result"
    }
   ],
   "source": [
    "churned[\"Exited\"].mode()"
   ]
  },
  {
   "cell_type": "code",
   "execution_count": 23,
   "id": "7bf8507f",
   "metadata": {},
   "outputs": [
    {
     "data": {
      "text/plain": [
       "206685585.13"
      ]
     },
     "execution_count": 23,
     "metadata": {},
     "output_type": "execute_result"
    }
   ],
   "source": [
    "churned_spending = churned[\"EstimatedSalary\"].sum()\n",
    "churned_spending"
   ]
  },
  {
   "cell_type": "code",
   "execution_count": 24,
   "id": "f4b54a83",
   "metadata": {},
   "outputs": [],
   "source": [
    "total_customers = 2037"
   ]
  },
  {
   "cell_type": "code",
   "execution_count": 25,
   "id": "c38e921a",
   "metadata": {},
   "outputs": [
    {
     "data": {
      "text/plain": [
       "101465.67753068237"
      ]
     },
     "execution_count": 25,
     "metadata": {},
     "output_type": "execute_result"
    }
   ],
   "source": [
    "total_churned = churned_spending/total_customers\n",
    "total_churned"
   ]
  },
  {
   "cell_type": "markdown",
   "id": "120b1dfb",
   "metadata": {},
   "source": [
    "**stayed** (dataset with customers who stayed with the bank)"
   ]
  },
  {
   "cell_type": "code",
   "execution_count": 26,
   "id": "e380ead2",
   "metadata": {
    "collapsed": true
   },
   "outputs": [
    {
     "data": {
      "text/html": [
       "<div>\n",
       "<style scoped>\n",
       "    .dataframe tbody tr th:only-of-type {\n",
       "        vertical-align: middle;\n",
       "    }\n",
       "\n",
       "    .dataframe tbody tr th {\n",
       "        vertical-align: top;\n",
       "    }\n",
       "\n",
       "    .dataframe thead th {\n",
       "        text-align: right;\n",
       "    }\n",
       "</style>\n",
       "<table border=\"1\" class=\"dataframe\">\n",
       "  <thead>\n",
       "    <tr style=\"text-align: right;\">\n",
       "      <th></th>\n",
       "      <th>CustomerId</th>\n",
       "      <th>Surname</th>\n",
       "      <th>CreditScore</th>\n",
       "      <th>Geography</th>\n",
       "      <th>Gender</th>\n",
       "      <th>Age</th>\n",
       "      <th>Tenure</th>\n",
       "      <th>Balance</th>\n",
       "      <th>NumOfProducts</th>\n",
       "      <th>HasCrCard</th>\n",
       "      <th>IsActiveMember</th>\n",
       "      <th>EstimatedSalary</th>\n",
       "      <th>Exited</th>\n",
       "    </tr>\n",
       "    <tr>\n",
       "      <th>RowNumber</th>\n",
       "      <th></th>\n",
       "      <th></th>\n",
       "      <th></th>\n",
       "      <th></th>\n",
       "      <th></th>\n",
       "      <th></th>\n",
       "      <th></th>\n",
       "      <th></th>\n",
       "      <th></th>\n",
       "      <th></th>\n",
       "      <th></th>\n",
       "      <th></th>\n",
       "      <th></th>\n",
       "    </tr>\n",
       "  </thead>\n",
       "  <tbody>\n",
       "    <tr>\n",
       "      <th>2</th>\n",
       "      <td>15647311</td>\n",
       "      <td>Hill</td>\n",
       "      <td>608</td>\n",
       "      <td>Spain</td>\n",
       "      <td>Female</td>\n",
       "      <td>41</td>\n",
       "      <td>1</td>\n",
       "      <td>83807.86</td>\n",
       "      <td>1</td>\n",
       "      <td>0</td>\n",
       "      <td>1</td>\n",
       "      <td>112542.58</td>\n",
       "      <td>0</td>\n",
       "    </tr>\n",
       "    <tr>\n",
       "      <th>4</th>\n",
       "      <td>15701354</td>\n",
       "      <td>Boni</td>\n",
       "      <td>699</td>\n",
       "      <td>France</td>\n",
       "      <td>Female</td>\n",
       "      <td>39</td>\n",
       "      <td>1</td>\n",
       "      <td>0.00</td>\n",
       "      <td>2</td>\n",
       "      <td>0</td>\n",
       "      <td>0</td>\n",
       "      <td>93826.63</td>\n",
       "      <td>0</td>\n",
       "    </tr>\n",
       "    <tr>\n",
       "      <th>5</th>\n",
       "      <td>15737888</td>\n",
       "      <td>Mitchell</td>\n",
       "      <td>850</td>\n",
       "      <td>Spain</td>\n",
       "      <td>Female</td>\n",
       "      <td>43</td>\n",
       "      <td>2</td>\n",
       "      <td>125510.82</td>\n",
       "      <td>1</td>\n",
       "      <td>1</td>\n",
       "      <td>1</td>\n",
       "      <td>79084.10</td>\n",
       "      <td>0</td>\n",
       "    </tr>\n",
       "    <tr>\n",
       "      <th>7</th>\n",
       "      <td>15592531</td>\n",
       "      <td>Bartlett</td>\n",
       "      <td>822</td>\n",
       "      <td>France</td>\n",
       "      <td>Male</td>\n",
       "      <td>50</td>\n",
       "      <td>7</td>\n",
       "      <td>0.00</td>\n",
       "      <td>2</td>\n",
       "      <td>1</td>\n",
       "      <td>1</td>\n",
       "      <td>10062.80</td>\n",
       "      <td>0</td>\n",
       "    </tr>\n",
       "    <tr>\n",
       "      <th>9</th>\n",
       "      <td>15792365</td>\n",
       "      <td>He</td>\n",
       "      <td>501</td>\n",
       "      <td>France</td>\n",
       "      <td>Male</td>\n",
       "      <td>44</td>\n",
       "      <td>4</td>\n",
       "      <td>142051.07</td>\n",
       "      <td>2</td>\n",
       "      <td>0</td>\n",
       "      <td>1</td>\n",
       "      <td>74940.50</td>\n",
       "      <td>0</td>\n",
       "    </tr>\n",
       "    <tr>\n",
       "      <th>...</th>\n",
       "      <td>...</td>\n",
       "      <td>...</td>\n",
       "      <td>...</td>\n",
       "      <td>...</td>\n",
       "      <td>...</td>\n",
       "      <td>...</td>\n",
       "      <td>...</td>\n",
       "      <td>...</td>\n",
       "      <td>...</td>\n",
       "      <td>...</td>\n",
       "      <td>...</td>\n",
       "      <td>...</td>\n",
       "      <td>...</td>\n",
       "    </tr>\n",
       "    <tr>\n",
       "      <th>9994</th>\n",
       "      <td>15569266</td>\n",
       "      <td>Rahman</td>\n",
       "      <td>644</td>\n",
       "      <td>France</td>\n",
       "      <td>Male</td>\n",
       "      <td>28</td>\n",
       "      <td>7</td>\n",
       "      <td>155060.41</td>\n",
       "      <td>1</td>\n",
       "      <td>1</td>\n",
       "      <td>0</td>\n",
       "      <td>29179.52</td>\n",
       "      <td>0</td>\n",
       "    </tr>\n",
       "    <tr>\n",
       "      <th>9995</th>\n",
       "      <td>15719294</td>\n",
       "      <td>Wood</td>\n",
       "      <td>800</td>\n",
       "      <td>France</td>\n",
       "      <td>Female</td>\n",
       "      <td>29</td>\n",
       "      <td>2</td>\n",
       "      <td>0.00</td>\n",
       "      <td>2</td>\n",
       "      <td>0</td>\n",
       "      <td>0</td>\n",
       "      <td>167773.55</td>\n",
       "      <td>0</td>\n",
       "    </tr>\n",
       "    <tr>\n",
       "      <th>9996</th>\n",
       "      <td>15606229</td>\n",
       "      <td>Obijiaku</td>\n",
       "      <td>771</td>\n",
       "      <td>France</td>\n",
       "      <td>Male</td>\n",
       "      <td>39</td>\n",
       "      <td>5</td>\n",
       "      <td>0.00</td>\n",
       "      <td>2</td>\n",
       "      <td>1</td>\n",
       "      <td>0</td>\n",
       "      <td>96270.64</td>\n",
       "      <td>0</td>\n",
       "    </tr>\n",
       "    <tr>\n",
       "      <th>9997</th>\n",
       "      <td>15569892</td>\n",
       "      <td>Johnstone</td>\n",
       "      <td>516</td>\n",
       "      <td>France</td>\n",
       "      <td>Male</td>\n",
       "      <td>35</td>\n",
       "      <td>10</td>\n",
       "      <td>57369.61</td>\n",
       "      <td>1</td>\n",
       "      <td>1</td>\n",
       "      <td>1</td>\n",
       "      <td>101699.77</td>\n",
       "      <td>0</td>\n",
       "    </tr>\n",
       "    <tr>\n",
       "      <th>10000</th>\n",
       "      <td>15628319</td>\n",
       "      <td>Walker</td>\n",
       "      <td>792</td>\n",
       "      <td>France</td>\n",
       "      <td>Female</td>\n",
       "      <td>28</td>\n",
       "      <td>4</td>\n",
       "      <td>130142.79</td>\n",
       "      <td>1</td>\n",
       "      <td>1</td>\n",
       "      <td>0</td>\n",
       "      <td>38190.78</td>\n",
       "      <td>0</td>\n",
       "    </tr>\n",
       "  </tbody>\n",
       "</table>\n",
       "<p>7963 rows × 13 columns</p>\n",
       "</div>"
      ],
      "text/plain": [
       "           CustomerId    Surname  CreditScore Geography  Gender  Age  Tenure  \\\n",
       "RowNumber                                                                      \n",
       "2            15647311       Hill          608     Spain  Female   41       1   \n",
       "4            15701354       Boni          699    France  Female   39       1   \n",
       "5            15737888   Mitchell          850     Spain  Female   43       2   \n",
       "7            15592531   Bartlett          822    France    Male   50       7   \n",
       "9            15792365         He          501    France    Male   44       4   \n",
       "...               ...        ...          ...       ...     ...  ...     ...   \n",
       "9994         15569266     Rahman          644    France    Male   28       7   \n",
       "9995         15719294       Wood          800    France  Female   29       2   \n",
       "9996         15606229   Obijiaku          771    France    Male   39       5   \n",
       "9997         15569892  Johnstone          516    France    Male   35      10   \n",
       "10000        15628319     Walker          792    France  Female   28       4   \n",
       "\n",
       "             Balance  NumOfProducts  HasCrCard  IsActiveMember  \\\n",
       "RowNumber                                                        \n",
       "2           83807.86              1          0               1   \n",
       "4               0.00              2          0               0   \n",
       "5          125510.82              1          1               1   \n",
       "7               0.00              2          1               1   \n",
       "9          142051.07              2          0               1   \n",
       "...              ...            ...        ...             ...   \n",
       "9994       155060.41              1          1               0   \n",
       "9995            0.00              2          0               0   \n",
       "9996            0.00              2          1               0   \n",
       "9997        57369.61              1          1               1   \n",
       "10000      130142.79              1          1               0   \n",
       "\n",
       "           EstimatedSalary  Exited  \n",
       "RowNumber                           \n",
       "2                112542.58       0  \n",
       "4                 93826.63       0  \n",
       "5                 79084.10       0  \n",
       "7                 10062.80       0  \n",
       "9                 74940.50       0  \n",
       "...                    ...     ...  \n",
       "9994              29179.52       0  \n",
       "9995             167773.55       0  \n",
       "9996              96270.64       0  \n",
       "9997             101699.77       0  \n",
       "10000             38190.78       0  \n",
       "\n",
       "[7963 rows x 13 columns]"
      ]
     },
     "execution_count": 26,
     "metadata": {},
     "output_type": "execute_result"
    }
   ],
   "source": [
    "stayed = churn[churn[\"Exited\"]==0] # stayed dataset\n",
    "stayed"
   ]
  },
  {
   "cell_type": "code",
   "execution_count": 27,
   "id": "3cd343a9",
   "metadata": {},
   "outputs": [
    {
     "data": {
      "text/plain": [
       "0.0"
      ]
     },
     "execution_count": 27,
     "metadata": {},
     "output_type": "execute_result"
    }
   ],
   "source": [
    "stayed[\"Exited\"].mean()"
   ]
  },
  {
   "cell_type": "code",
   "execution_count": 28,
   "id": "405bf251",
   "metadata": {},
   "outputs": [
    {
     "data": {
      "text/plain": [
       "0.0"
      ]
     },
     "execution_count": 28,
     "metadata": {},
     "output_type": "execute_result"
    }
   ],
   "source": [
    "stayed[\"Exited\"].median()"
   ]
  },
  {
   "cell_type": "code",
   "execution_count": 29,
   "id": "dee3661e",
   "metadata": {},
   "outputs": [
    {
     "data": {
      "text/plain": [
       "0    0\n",
       "Name: Exited, dtype: int64"
      ]
     },
     "execution_count": 29,
     "metadata": {},
     "output_type": "execute_result"
    }
   ],
   "source": [
    "stayed[\"Exited\"].mode()"
   ]
  },
  {
   "cell_type": "code",
   "execution_count": 30,
   "id": "fb24e633",
   "metadata": {},
   "outputs": [
    {
     "data": {
      "text/plain": [
       "206685585.13"
      ]
     },
     "execution_count": 30,
     "metadata": {},
     "output_type": "execute_result"
    }
   ],
   "source": [
    "stayed_spending = churned[\"EstimatedSalary\"].sum()\n",
    "stayed_spending"
   ]
  },
  {
   "cell_type": "code",
   "execution_count": 31,
   "id": "87dbc582",
   "metadata": {},
   "outputs": [],
   "source": [
    "total_stayed_customers = 7963"
   ]
  },
  {
   "cell_type": "code",
   "execution_count": 32,
   "id": "2c9fea29",
   "metadata": {},
   "outputs": [
    {
     "data": {
      "text/plain": [
       "25955.743454728115"
      ]
     },
     "execution_count": 32,
     "metadata": {},
     "output_type": "execute_result"
    }
   ],
   "source": [
    "total_stayed = stayed_spending/total_stayed_customers\n",
    "total_stayed"
   ]
  },
  {
   "cell_type": "markdown",
   "id": "2b3243f6",
   "metadata": {},
   "source": [
    " spending patterns between churned and non-churned customers\n",
    " \n",
    "     * for churned customers 101465.67753068237\n",
    "     * for non-churned customers 25955.743454728115\n",
    " spended more by non-churned customers"
   ]
  },
  {
   "cell_type": "markdown",
   "id": "56994acc",
   "metadata": {},
   "source": [
    "###### **3** What is the dispersion in customer tenure for both churned and non-churned customers, and how does this affect the predictive modeling process?"
   ]
  },
  {
   "cell_type": "code",
   "execution_count": null,
   "id": "589e7e4b",
   "metadata": {},
   "outputs": [],
   "source": [
    "churned"
   ]
  },
  {
   "cell_type": "code",
   "execution_count": null,
   "id": "c48cbc57",
   "metadata": {},
   "outputs": [],
   "source": [
    "churned_std = churned[\"Tenure\"].std()\n",
    "churned_std"
   ]
  },
  {
   "cell_type": "code",
   "execution_count": null,
   "id": "56abb60a",
   "metadata": {},
   "outputs": [],
   "source": [
    "q1 = churned[\"Tenure\"].quantile(0.25)\n",
    "q1"
   ]
  },
  {
   "cell_type": "code",
   "execution_count": null,
   "id": "7eb6abcf",
   "metadata": {},
   "outputs": [],
   "source": [
    "q3 = churned[\"Tenure\"].quantile(0.75)\n",
    "q3"
   ]
  },
  {
   "cell_type": "code",
   "execution_count": null,
   "id": "26207206",
   "metadata": {},
   "outputs": [],
   "source": [
    "churned_iqr = q3-q1\n",
    "churned_iqr"
   ]
  },
  {
   "cell_type": "code",
   "execution_count": null,
   "id": "029c48d4",
   "metadata": {},
   "outputs": [],
   "source": [
    "stayed"
   ]
  },
  {
   "cell_type": "code",
   "execution_count": null,
   "id": "1feb51e3",
   "metadata": {},
   "outputs": [],
   "source": [
    "stayed_std = stayed[\"Tenure\"].std()\n",
    "stayed_std"
   ]
  },
  {
   "cell_type": "code",
   "execution_count": null,
   "id": "a277f295",
   "metadata": {},
   "outputs": [],
   "source": [
    "Q1 = stayed[\"Tenure\"].quantile(0.25)\n",
    "Q1"
   ]
  },
  {
   "cell_type": "code",
   "execution_count": null,
   "id": "de9a70fa",
   "metadata": {},
   "outputs": [],
   "source": [
    "Q3 = stayed[\"Tenure\"].quantile(0.75)\n",
    "Q3"
   ]
  },
  {
   "cell_type": "code",
   "execution_count": null,
   "id": "374eac12",
   "metadata": {},
   "outputs": [],
   "source": [
    "stayed_iqr = Q3-Q1\n",
    "stayed_iqr"
   ]
  },
  {
   "cell_type": "markdown",
   "id": "5e2b57fb",
   "metadata": {},
   "source": [
    "predictive modeling\n",
    "\n",
    "    * for churned, standard deviation of Tenure is 2.936106268431197\n",
    "    * for stayed, standard deviation of Tenure is 2.8806577432683818\n",
    "churned_customers is more predictive.churned customers stayed with the bank more\n",
    "\n",
    "  **or**\n",
    "  \n",
    "    * for churned, IQR of Tenure is 6.0\n",
    "    * for stayed, IQR of Tenure is 4.0\n",
    "  hence IQR is greater for churned customers,predictive is more for churned customers"
   ]
  },
  {
   "cell_type": "code",
   "execution_count": null,
   "id": "27866e8e",
   "metadata": {},
   "outputs": [],
   "source": []
  },
  {
   "cell_type": "markdown",
   "id": "2bcbd26e",
   "metadata": {},
   "source": [
    "###### **4** How does feature scaling works on top of different features work with different techniques such as min-max,norm,standardization and interpret how each of them worked?"
   ]
  },
  {
   "cell_type": "code",
   "execution_count": 34,
   "id": "ab7a2949",
   "metadata": {},
   "outputs": [
    {
     "data": {
      "text/plain": [
       "array([42, 41, 39, 43, 44, 50, 29, 27, 31, 24, 34, 25, 35, 45, 58, 32, 38,\n",
       "       46, 36, 33, 40, 51, 61, 49, 37, 19, 66, 56, 26, 21, 55, 75, 22, 30,\n",
       "       28, 65, 48, 52, 57, 73, 47, 54, 72, 20, 67, 79, 62, 53, 80, 59, 68,\n",
       "       23, 60, 70, 63, 64, 18, 82, 69, 74, 71, 76, 77, 88, 85, 84, 78, 81,\n",
       "       92, 83], dtype=int64)"
      ]
     },
     "execution_count": 34,
     "metadata": {},
     "output_type": "execute_result"
    }
   ],
   "source": [
    "churn[\"Age\"].unique()"
   ]
  },
  {
   "cell_type": "code",
   "execution_count": 35,
   "id": "95ecb274",
   "metadata": {},
   "outputs": [
    {
     "data": {
      "text/plain": [
       "18"
      ]
     },
     "execution_count": 35,
     "metadata": {},
     "output_type": "execute_result"
    }
   ],
   "source": [
    "churn[\"Age\"].min()"
   ]
  },
  {
   "cell_type": "code",
   "execution_count": 36,
   "id": "7162bf5d",
   "metadata": {},
   "outputs": [
    {
     "data": {
      "text/plain": [
       "92"
      ]
     },
     "execution_count": 36,
     "metadata": {},
     "output_type": "execute_result"
    }
   ],
   "source": [
    "churn[\"Age\"].max()"
   ]
  },
  {
   "cell_type": "code",
   "execution_count": 37,
   "id": "432b8807",
   "metadata": {
    "scrolled": true
   },
   "outputs": [
    {
     "data": {
      "text/plain": [
       "74"
      ]
     },
     "execution_count": 37,
     "metadata": {},
     "output_type": "execute_result"
    }
   ],
   "source": [
    "churn[\"Age\"].max()-churn[\"Age\"].min()"
   ]
  },
  {
   "cell_type": "code",
   "execution_count": 38,
   "id": "63a5c68a",
   "metadata": {},
   "outputs": [
    {
     "data": {
      "text/plain": [
       "37.0"
      ]
     },
     "execution_count": 38,
     "metadata": {},
     "output_type": "execute_result"
    }
   ],
   "source": [
    "churn[\"Age\"].median()"
   ]
  },
  {
   "cell_type": "code",
   "execution_count": 39,
   "id": "c2685778",
   "metadata": {},
   "outputs": [
    {
     "data": {
      "text/plain": [
       "-1.1875"
      ]
     },
     "execution_count": 39,
     "metadata": {},
     "output_type": "execute_result"
    }
   ],
   "source": [
    "min_max = (37-18)/(2-18)\n",
    "min_max"
   ]
  },
  {
   "cell_type": "markdown",
   "id": "05c3af44",
   "metadata": {},
   "source": [
    "    Min-Max Scaling (Min-Max Normalization):\n",
    "        Scaled Value = Value−Min / Max−Min"
   ]
  },
  {
   "cell_type": "markdown",
   "id": "2025d952",
   "metadata": {},
   "source": [
    "Age (ranging from 0 to 100) and income (ranging from 0 to a high value) can be scaled using Min-Max scaling to ensure they are within the same range"
   ]
  },
  {
   "cell_type": "code",
   "execution_count": 40,
   "id": "b5ec642c",
   "metadata": {},
   "outputs": [],
   "source": [
    "# Age\n",
    "age = churn[\"Age\"]\n"
   ]
  },
  {
   "cell_type": "code",
   "execution_count": 41,
   "id": "b57096a9",
   "metadata": {},
   "outputs": [],
   "source": [
    "min_age = age.min()"
   ]
  },
  {
   "cell_type": "code",
   "execution_count": 42,
   "id": "a31161df",
   "metadata": {},
   "outputs": [],
   "source": [
    "max_age = age.max()"
   ]
  },
  {
   "cell_type": "code",
   "execution_count": 44,
   "id": "2e418837",
   "metadata": {},
   "outputs": [
    {
     "data": {
      "text/plain": [
       "RowNumber\n",
       "1        0.324324\n",
       "2        0.310811\n",
       "3        0.324324\n",
       "4        0.283784\n",
       "5        0.337838\n",
       "           ...   \n",
       "9996     0.283784\n",
       "9997     0.229730\n",
       "9998     0.243243\n",
       "9999     0.324324\n",
       "10000    0.135135\n",
       "Name: Age, Length: 10000, dtype: float64"
      ]
     },
     "execution_count": 44,
     "metadata": {},
     "output_type": "execute_result"
    }
   ],
   "source": [
    "# Scaled Value = Value−Min / Max−Min\n",
    "scaled_age = (churn[\"Age\"] - min_age) / (max_age - min_age)\n",
    "scaled_age"
   ]
  },
  {
   "cell_type": "markdown",
   "id": "e8c93e6f",
   "metadata": {},
   "source": [
    "    Standardization (Z-score Normalization):\n",
    "        Scaled Value = Value−Mean / Standard Deviation"
   ]
  },
  {
   "cell_type": "markdown",
   "id": "b6e2a0eb",
   "metadata": {},
   "source": [
    "###### **5** Can you visualize the distribution of customer demographics such as age, income, and location for churned and non-churned customers using histograms or density plots?\n"
   ]
  },
  {
   "cell_type": "code",
   "execution_count": 74,
   "id": "66ad8d27",
   "metadata": {
    "collapsed": true
   },
   "outputs": [
    {
     "data": {
      "text/html": [
       "<div>\n",
       "<style scoped>\n",
       "    .dataframe tbody tr th:only-of-type {\n",
       "        vertical-align: middle;\n",
       "    }\n",
       "\n",
       "    .dataframe tbody tr th {\n",
       "        vertical-align: top;\n",
       "    }\n",
       "\n",
       "    .dataframe thead th {\n",
       "        text-align: right;\n",
       "    }\n",
       "</style>\n",
       "<table border=\"1\" class=\"dataframe\">\n",
       "  <thead>\n",
       "    <tr style=\"text-align: right;\">\n",
       "      <th></th>\n",
       "      <th>CustomerId</th>\n",
       "      <th>Surname</th>\n",
       "      <th>CreditScore</th>\n",
       "      <th>Geography</th>\n",
       "      <th>Gender</th>\n",
       "      <th>Age</th>\n",
       "      <th>Tenure</th>\n",
       "      <th>Balance</th>\n",
       "      <th>NumOfProducts</th>\n",
       "      <th>HasCrCard</th>\n",
       "      <th>IsActiveMember</th>\n",
       "      <th>EstimatedSalary</th>\n",
       "      <th>Exited</th>\n",
       "    </tr>\n",
       "    <tr>\n",
       "      <th>RowNumber</th>\n",
       "      <th></th>\n",
       "      <th></th>\n",
       "      <th></th>\n",
       "      <th></th>\n",
       "      <th></th>\n",
       "      <th></th>\n",
       "      <th></th>\n",
       "      <th></th>\n",
       "      <th></th>\n",
       "      <th></th>\n",
       "      <th></th>\n",
       "      <th></th>\n",
       "      <th></th>\n",
       "    </tr>\n",
       "  </thead>\n",
       "  <tbody>\n",
       "    <tr>\n",
       "      <th>1</th>\n",
       "      <td>15634602</td>\n",
       "      <td>Hargrave</td>\n",
       "      <td>619</td>\n",
       "      <td>France</td>\n",
       "      <td>Female</td>\n",
       "      <td>42</td>\n",
       "      <td>2</td>\n",
       "      <td>0.00</td>\n",
       "      <td>1</td>\n",
       "      <td>1</td>\n",
       "      <td>1</td>\n",
       "      <td>101348.88</td>\n",
       "      <td>1</td>\n",
       "    </tr>\n",
       "    <tr>\n",
       "      <th>3</th>\n",
       "      <td>15619304</td>\n",
       "      <td>Onio</td>\n",
       "      <td>502</td>\n",
       "      <td>France</td>\n",
       "      <td>Female</td>\n",
       "      <td>42</td>\n",
       "      <td>8</td>\n",
       "      <td>159660.80</td>\n",
       "      <td>3</td>\n",
       "      <td>1</td>\n",
       "      <td>0</td>\n",
       "      <td>113931.57</td>\n",
       "      <td>1</td>\n",
       "    </tr>\n",
       "    <tr>\n",
       "      <th>6</th>\n",
       "      <td>15574012</td>\n",
       "      <td>Chu</td>\n",
       "      <td>645</td>\n",
       "      <td>Spain</td>\n",
       "      <td>Male</td>\n",
       "      <td>44</td>\n",
       "      <td>8</td>\n",
       "      <td>113755.78</td>\n",
       "      <td>2</td>\n",
       "      <td>1</td>\n",
       "      <td>0</td>\n",
       "      <td>149756.71</td>\n",
       "      <td>1</td>\n",
       "    </tr>\n",
       "    <tr>\n",
       "      <th>8</th>\n",
       "      <td>15656148</td>\n",
       "      <td>Obinna</td>\n",
       "      <td>376</td>\n",
       "      <td>Germany</td>\n",
       "      <td>Female</td>\n",
       "      <td>29</td>\n",
       "      <td>4</td>\n",
       "      <td>115046.74</td>\n",
       "      <td>4</td>\n",
       "      <td>1</td>\n",
       "      <td>0</td>\n",
       "      <td>119346.88</td>\n",
       "      <td>1</td>\n",
       "    </tr>\n",
       "    <tr>\n",
       "      <th>17</th>\n",
       "      <td>15737452</td>\n",
       "      <td>Romeo</td>\n",
       "      <td>653</td>\n",
       "      <td>Germany</td>\n",
       "      <td>Male</td>\n",
       "      <td>58</td>\n",
       "      <td>1</td>\n",
       "      <td>132602.88</td>\n",
       "      <td>1</td>\n",
       "      <td>1</td>\n",
       "      <td>0</td>\n",
       "      <td>5097.67</td>\n",
       "      <td>1</td>\n",
       "    </tr>\n",
       "    <tr>\n",
       "      <th>...</th>\n",
       "      <td>...</td>\n",
       "      <td>...</td>\n",
       "      <td>...</td>\n",
       "      <td>...</td>\n",
       "      <td>...</td>\n",
       "      <td>...</td>\n",
       "      <td>...</td>\n",
       "      <td>...</td>\n",
       "      <td>...</td>\n",
       "      <td>...</td>\n",
       "      <td>...</td>\n",
       "      <td>...</td>\n",
       "      <td>...</td>\n",
       "    </tr>\n",
       "    <tr>\n",
       "      <th>9982</th>\n",
       "      <td>15672754</td>\n",
       "      <td>Burbidge</td>\n",
       "      <td>498</td>\n",
       "      <td>Germany</td>\n",
       "      <td>Male</td>\n",
       "      <td>42</td>\n",
       "      <td>3</td>\n",
       "      <td>152039.70</td>\n",
       "      <td>1</td>\n",
       "      <td>1</td>\n",
       "      <td>1</td>\n",
       "      <td>53445.17</td>\n",
       "      <td>1</td>\n",
       "    </tr>\n",
       "    <tr>\n",
       "      <th>9983</th>\n",
       "      <td>15768163</td>\n",
       "      <td>Griffin</td>\n",
       "      <td>655</td>\n",
       "      <td>Germany</td>\n",
       "      <td>Female</td>\n",
       "      <td>46</td>\n",
       "      <td>7</td>\n",
       "      <td>137145.12</td>\n",
       "      <td>1</td>\n",
       "      <td>1</td>\n",
       "      <td>0</td>\n",
       "      <td>115146.40</td>\n",
       "      <td>1</td>\n",
       "    </tr>\n",
       "    <tr>\n",
       "      <th>9992</th>\n",
       "      <td>15769959</td>\n",
       "      <td>Ajuluchukwu</td>\n",
       "      <td>597</td>\n",
       "      <td>France</td>\n",
       "      <td>Female</td>\n",
       "      <td>53</td>\n",
       "      <td>4</td>\n",
       "      <td>88381.21</td>\n",
       "      <td>1</td>\n",
       "      <td>1</td>\n",
       "      <td>0</td>\n",
       "      <td>69384.71</td>\n",
       "      <td>1</td>\n",
       "    </tr>\n",
       "    <tr>\n",
       "      <th>9998</th>\n",
       "      <td>15584532</td>\n",
       "      <td>Liu</td>\n",
       "      <td>709</td>\n",
       "      <td>France</td>\n",
       "      <td>Female</td>\n",
       "      <td>36</td>\n",
       "      <td>7</td>\n",
       "      <td>0.00</td>\n",
       "      <td>1</td>\n",
       "      <td>0</td>\n",
       "      <td>1</td>\n",
       "      <td>42085.58</td>\n",
       "      <td>1</td>\n",
       "    </tr>\n",
       "    <tr>\n",
       "      <th>9999</th>\n",
       "      <td>15682355</td>\n",
       "      <td>Sabbatini</td>\n",
       "      <td>772</td>\n",
       "      <td>Germany</td>\n",
       "      <td>Male</td>\n",
       "      <td>42</td>\n",
       "      <td>3</td>\n",
       "      <td>75075.31</td>\n",
       "      <td>2</td>\n",
       "      <td>1</td>\n",
       "      <td>0</td>\n",
       "      <td>92888.52</td>\n",
       "      <td>1</td>\n",
       "    </tr>\n",
       "  </tbody>\n",
       "</table>\n",
       "<p>2037 rows × 13 columns</p>\n",
       "</div>"
      ],
      "text/plain": [
       "           CustomerId      Surname  CreditScore Geography  Gender  Age  \\\n",
       "RowNumber                                                                \n",
       "1            15634602     Hargrave          619    France  Female   42   \n",
       "3            15619304         Onio          502    France  Female   42   \n",
       "6            15574012          Chu          645     Spain    Male   44   \n",
       "8            15656148       Obinna          376   Germany  Female   29   \n",
       "17           15737452        Romeo          653   Germany    Male   58   \n",
       "...               ...          ...          ...       ...     ...  ...   \n",
       "9982         15672754     Burbidge          498   Germany    Male   42   \n",
       "9983         15768163      Griffin          655   Germany  Female   46   \n",
       "9992         15769959  Ajuluchukwu          597    France  Female   53   \n",
       "9998         15584532          Liu          709    France  Female   36   \n",
       "9999         15682355    Sabbatini          772   Germany    Male   42   \n",
       "\n",
       "           Tenure    Balance  NumOfProducts  HasCrCard  IsActiveMember  \\\n",
       "RowNumber                                                                \n",
       "1               2       0.00              1          1               1   \n",
       "3               8  159660.80              3          1               0   \n",
       "6               8  113755.78              2          1               0   \n",
       "8               4  115046.74              4          1               0   \n",
       "17              1  132602.88              1          1               0   \n",
       "...           ...        ...            ...        ...             ...   \n",
       "9982            3  152039.70              1          1               1   \n",
       "9983            7  137145.12              1          1               0   \n",
       "9992            4   88381.21              1          1               0   \n",
       "9998            7       0.00              1          0               1   \n",
       "9999            3   75075.31              2          1               0   \n",
       "\n",
       "           EstimatedSalary  Exited  \n",
       "RowNumber                           \n",
       "1                101348.88       1  \n",
       "3                113931.57       1  \n",
       "6                149756.71       1  \n",
       "8                119346.88       1  \n",
       "17                 5097.67       1  \n",
       "...                    ...     ...  \n",
       "9982              53445.17       1  \n",
       "9983             115146.40       1  \n",
       "9992              69384.71       1  \n",
       "9998              42085.58       1  \n",
       "9999              92888.52       1  \n",
       "\n",
       "[2037 rows x 13 columns]"
      ]
     },
     "execution_count": 74,
     "metadata": {},
     "output_type": "execute_result"
    }
   ],
   "source": [
    "churned"
   ]
  },
  {
   "cell_type": "code",
   "execution_count": 75,
   "id": "75f148e9",
   "metadata": {
    "collapsed": true
   },
   "outputs": [
    {
     "data": {
      "text/html": [
       "<div>\n",
       "<style scoped>\n",
       "    .dataframe tbody tr th:only-of-type {\n",
       "        vertical-align: middle;\n",
       "    }\n",
       "\n",
       "    .dataframe tbody tr th {\n",
       "        vertical-align: top;\n",
       "    }\n",
       "\n",
       "    .dataframe thead th {\n",
       "        text-align: right;\n",
       "    }\n",
       "</style>\n",
       "<table border=\"1\" class=\"dataframe\">\n",
       "  <thead>\n",
       "    <tr style=\"text-align: right;\">\n",
       "      <th></th>\n",
       "      <th>CustomerId</th>\n",
       "      <th>Surname</th>\n",
       "      <th>CreditScore</th>\n",
       "      <th>Geography</th>\n",
       "      <th>Gender</th>\n",
       "      <th>Age</th>\n",
       "      <th>Tenure</th>\n",
       "      <th>Balance</th>\n",
       "      <th>NumOfProducts</th>\n",
       "      <th>HasCrCard</th>\n",
       "      <th>IsActiveMember</th>\n",
       "      <th>EstimatedSalary</th>\n",
       "      <th>Exited</th>\n",
       "    </tr>\n",
       "    <tr>\n",
       "      <th>RowNumber</th>\n",
       "      <th></th>\n",
       "      <th></th>\n",
       "      <th></th>\n",
       "      <th></th>\n",
       "      <th></th>\n",
       "      <th></th>\n",
       "      <th></th>\n",
       "      <th></th>\n",
       "      <th></th>\n",
       "      <th></th>\n",
       "      <th></th>\n",
       "      <th></th>\n",
       "      <th></th>\n",
       "    </tr>\n",
       "  </thead>\n",
       "  <tbody>\n",
       "    <tr>\n",
       "      <th>2</th>\n",
       "      <td>15647311</td>\n",
       "      <td>Hill</td>\n",
       "      <td>608</td>\n",
       "      <td>Spain</td>\n",
       "      <td>Female</td>\n",
       "      <td>41</td>\n",
       "      <td>1</td>\n",
       "      <td>83807.86</td>\n",
       "      <td>1</td>\n",
       "      <td>0</td>\n",
       "      <td>1</td>\n",
       "      <td>112542.58</td>\n",
       "      <td>0</td>\n",
       "    </tr>\n",
       "    <tr>\n",
       "      <th>4</th>\n",
       "      <td>15701354</td>\n",
       "      <td>Boni</td>\n",
       "      <td>699</td>\n",
       "      <td>France</td>\n",
       "      <td>Female</td>\n",
       "      <td>39</td>\n",
       "      <td>1</td>\n",
       "      <td>0.00</td>\n",
       "      <td>2</td>\n",
       "      <td>0</td>\n",
       "      <td>0</td>\n",
       "      <td>93826.63</td>\n",
       "      <td>0</td>\n",
       "    </tr>\n",
       "    <tr>\n",
       "      <th>5</th>\n",
       "      <td>15737888</td>\n",
       "      <td>Mitchell</td>\n",
       "      <td>850</td>\n",
       "      <td>Spain</td>\n",
       "      <td>Female</td>\n",
       "      <td>43</td>\n",
       "      <td>2</td>\n",
       "      <td>125510.82</td>\n",
       "      <td>1</td>\n",
       "      <td>1</td>\n",
       "      <td>1</td>\n",
       "      <td>79084.10</td>\n",
       "      <td>0</td>\n",
       "    </tr>\n",
       "    <tr>\n",
       "      <th>7</th>\n",
       "      <td>15592531</td>\n",
       "      <td>Bartlett</td>\n",
       "      <td>822</td>\n",
       "      <td>France</td>\n",
       "      <td>Male</td>\n",
       "      <td>50</td>\n",
       "      <td>7</td>\n",
       "      <td>0.00</td>\n",
       "      <td>2</td>\n",
       "      <td>1</td>\n",
       "      <td>1</td>\n",
       "      <td>10062.80</td>\n",
       "      <td>0</td>\n",
       "    </tr>\n",
       "    <tr>\n",
       "      <th>9</th>\n",
       "      <td>15792365</td>\n",
       "      <td>He</td>\n",
       "      <td>501</td>\n",
       "      <td>France</td>\n",
       "      <td>Male</td>\n",
       "      <td>44</td>\n",
       "      <td>4</td>\n",
       "      <td>142051.07</td>\n",
       "      <td>2</td>\n",
       "      <td>0</td>\n",
       "      <td>1</td>\n",
       "      <td>74940.50</td>\n",
       "      <td>0</td>\n",
       "    </tr>\n",
       "    <tr>\n",
       "      <th>...</th>\n",
       "      <td>...</td>\n",
       "      <td>...</td>\n",
       "      <td>...</td>\n",
       "      <td>...</td>\n",
       "      <td>...</td>\n",
       "      <td>...</td>\n",
       "      <td>...</td>\n",
       "      <td>...</td>\n",
       "      <td>...</td>\n",
       "      <td>...</td>\n",
       "      <td>...</td>\n",
       "      <td>...</td>\n",
       "      <td>...</td>\n",
       "    </tr>\n",
       "    <tr>\n",
       "      <th>9994</th>\n",
       "      <td>15569266</td>\n",
       "      <td>Rahman</td>\n",
       "      <td>644</td>\n",
       "      <td>France</td>\n",
       "      <td>Male</td>\n",
       "      <td>28</td>\n",
       "      <td>7</td>\n",
       "      <td>155060.41</td>\n",
       "      <td>1</td>\n",
       "      <td>1</td>\n",
       "      <td>0</td>\n",
       "      <td>29179.52</td>\n",
       "      <td>0</td>\n",
       "    </tr>\n",
       "    <tr>\n",
       "      <th>9995</th>\n",
       "      <td>15719294</td>\n",
       "      <td>Wood</td>\n",
       "      <td>800</td>\n",
       "      <td>France</td>\n",
       "      <td>Female</td>\n",
       "      <td>29</td>\n",
       "      <td>2</td>\n",
       "      <td>0.00</td>\n",
       "      <td>2</td>\n",
       "      <td>0</td>\n",
       "      <td>0</td>\n",
       "      <td>167773.55</td>\n",
       "      <td>0</td>\n",
       "    </tr>\n",
       "    <tr>\n",
       "      <th>9996</th>\n",
       "      <td>15606229</td>\n",
       "      <td>Obijiaku</td>\n",
       "      <td>771</td>\n",
       "      <td>France</td>\n",
       "      <td>Male</td>\n",
       "      <td>39</td>\n",
       "      <td>5</td>\n",
       "      <td>0.00</td>\n",
       "      <td>2</td>\n",
       "      <td>1</td>\n",
       "      <td>0</td>\n",
       "      <td>96270.64</td>\n",
       "      <td>0</td>\n",
       "    </tr>\n",
       "    <tr>\n",
       "      <th>9997</th>\n",
       "      <td>15569892</td>\n",
       "      <td>Johnstone</td>\n",
       "      <td>516</td>\n",
       "      <td>France</td>\n",
       "      <td>Male</td>\n",
       "      <td>35</td>\n",
       "      <td>10</td>\n",
       "      <td>57369.61</td>\n",
       "      <td>1</td>\n",
       "      <td>1</td>\n",
       "      <td>1</td>\n",
       "      <td>101699.77</td>\n",
       "      <td>0</td>\n",
       "    </tr>\n",
       "    <tr>\n",
       "      <th>10000</th>\n",
       "      <td>15628319</td>\n",
       "      <td>Walker</td>\n",
       "      <td>792</td>\n",
       "      <td>France</td>\n",
       "      <td>Female</td>\n",
       "      <td>28</td>\n",
       "      <td>4</td>\n",
       "      <td>130142.79</td>\n",
       "      <td>1</td>\n",
       "      <td>1</td>\n",
       "      <td>0</td>\n",
       "      <td>38190.78</td>\n",
       "      <td>0</td>\n",
       "    </tr>\n",
       "  </tbody>\n",
       "</table>\n",
       "<p>7963 rows × 13 columns</p>\n",
       "</div>"
      ],
      "text/plain": [
       "           CustomerId    Surname  CreditScore Geography  Gender  Age  Tenure  \\\n",
       "RowNumber                                                                      \n",
       "2            15647311       Hill          608     Spain  Female   41       1   \n",
       "4            15701354       Boni          699    France  Female   39       1   \n",
       "5            15737888   Mitchell          850     Spain  Female   43       2   \n",
       "7            15592531   Bartlett          822    France    Male   50       7   \n",
       "9            15792365         He          501    France    Male   44       4   \n",
       "...               ...        ...          ...       ...     ...  ...     ...   \n",
       "9994         15569266     Rahman          644    France    Male   28       7   \n",
       "9995         15719294       Wood          800    France  Female   29       2   \n",
       "9996         15606229   Obijiaku          771    France    Male   39       5   \n",
       "9997         15569892  Johnstone          516    France    Male   35      10   \n",
       "10000        15628319     Walker          792    France  Female   28       4   \n",
       "\n",
       "             Balance  NumOfProducts  HasCrCard  IsActiveMember  \\\n",
       "RowNumber                                                        \n",
       "2           83807.86              1          0               1   \n",
       "4               0.00              2          0               0   \n",
       "5          125510.82              1          1               1   \n",
       "7               0.00              2          1               1   \n",
       "9          142051.07              2          0               1   \n",
       "...              ...            ...        ...             ...   \n",
       "9994       155060.41              1          1               0   \n",
       "9995            0.00              2          0               0   \n",
       "9996            0.00              2          1               0   \n",
       "9997        57369.61              1          1               1   \n",
       "10000      130142.79              1          1               0   \n",
       "\n",
       "           EstimatedSalary  Exited  \n",
       "RowNumber                           \n",
       "2                112542.58       0  \n",
       "4                 93826.63       0  \n",
       "5                 79084.10       0  \n",
       "7                 10062.80       0  \n",
       "9                 74940.50       0  \n",
       "...                    ...     ...  \n",
       "9994              29179.52       0  \n",
       "9995             167773.55       0  \n",
       "9996              96270.64       0  \n",
       "9997             101699.77       0  \n",
       "10000             38190.78       0  \n",
       "\n",
       "[7963 rows x 13 columns]"
      ]
     },
     "execution_count": 75,
     "metadata": {},
     "output_type": "execute_result"
    }
   ],
   "source": [
    "stayed"
   ]
  },
  {
   "cell_type": "markdown",
   "id": "23dea070",
   "metadata": {},
   "source": [
    "* kde: plot shows the smoothed distribution curves \n",
    "* color: set the colors \n",
    "* legend: displays the legend to differentiate between the two groups.\n",
    "* labels: provide labels for the legend to distinguish between the two groups \n",
    "* title: sets the title of the plot\n",
    "* grid: adds gridlines to the plot\n",
    "* tight_layout: ensures that plot elements are properly arranged without overlapping\n",
    "* bins: parameter divides the feature into range"
   ]
  },
  {
   "cell_type": "markdown",
   "id": "e7d342c2",
   "metadata": {},
   "source": [
    "######  \"age distribution\""
   ]
  },
  {
   "cell_type": "code",
   "execution_count": 76,
   "id": "a13c750b",
   "metadata": {},
   "outputs": [
    {
     "data": {
      "image/png": "[encoded data removed]",
      "text/plain": [
       "<Figure size 640x480 with 1 Axes>"
      ]
     },
     "metadata": {},
     "output_type": "display_data"
    }
   ],
   "source": [
    "sns.histplot(churned['Age'], bins=30, kde=True, color='r', label='Churned Customers')\n",
    "sns.histplot(stayed['Age'], bins=30, kde=True, color='g', label='Non-Churned Customers')\n",
    "plt.title('Age Distribution')\n",
    "plt.legend()\n",
    "plt.grid()\n",
    "plt.tight_layout()\n",
    "plt.show()"
   ]
  },
  {
   "cell_type": "markdown",
   "id": "a24f4fe1",
   "metadata": {},
   "source": [
    "* age distributions of customers who churned and customers who did not churn.\n",
    "* no:of churned customer with maximun age(between 50-60) is 84\n",
    "* no:of churned customer with minimum age is 18\n",
    "* no:of stayed customer with maximun age is above  1200\n",
    "* no:of stayed customer with minimum age is below 200"
   ]
  },
  {
   "cell_type": "code",
   "execution_count": 77,
   "id": "d7dd09f4",
   "metadata": {},
   "outputs": [
    {
     "data": {
      "text/plain": [
       "18"
      ]
     },
     "execution_count": 77,
     "metadata": {},
     "output_type": "execute_result"
    }
   ],
   "source": [
    "churned[\"Age\"].min()"
   ]
  },
  {
   "cell_type": "code",
   "execution_count": 78,
   "id": "2f3ce15f",
   "metadata": {},
   "outputs": [
    {
     "data": {
      "image/png": "[encoded data removed]",
      "text/plain": [
       "<Figure size 640x480 with 1 Axes>"
      ]
     },
     "metadata": {},
     "output_type": "display_data"
    }
   ],
   "source": [
    "sns.histplot(churned[\"EstimatedSalary\"],bins=30,kde=True,color=\"r\",label=\"Churned Customers\")\n",
    "sns.histplot(stayed[\"EstimatedSalary\"],bins=30,kde=True,color=\"g\",label=\"Non-Churned Customers\")\n",
    "plt.title(\"INCOME DISTRIBUTION\")\n",
    "plt.legend()\n",
    "plt.grid()\n",
    "plt.tight_layout()\n",
    "plt.show()"
   ]
  },
  {
   "cell_type": "code",
   "execution_count": 79,
   "id": "5dc07c49",
   "metadata": {},
   "outputs": [
    {
     "data": {
      "image/png": "[encoded data removed]",
      "text/plain": [
       "<Figure size 640x480 with 1 Axes>"
      ]
     },
     "metadata": {},
     "output_type": "display_data"
    }
   ],
   "source": [
    "sns.histplot(churned[\"Geography\"],bins=30,kde=True,color=\"b\",label=\"Churned Customers\")\n",
    "sns.histplot(stayed[\"Geography\"],bins=30,kde=True,color=\"g\",label=\"Non-Churned Customers\")\n",
    "plt.title(\"LOCATION DISTRIBUTION\")\n",
    "plt.legend()\n",
    "plt.grid()\n",
    "plt.tight_layout()\n",
    "plt.show()"
   ]
  },
  {
   "cell_type": "code",
   "execution_count": null,
   "id": "8c23b01c",
   "metadata": {},
   "outputs": [],
   "source": []
  },
  {
   "cell_type": "code",
   "execution_count": null,
   "id": "a7a8fc3f",
   "metadata": {},
   "outputs": [],
   "source": []
  },
  {
   "cell_type": "markdown",
   "id": "255798d2",
   "metadata": {},
   "source": [
    "###### **6** Is there a significant correlation between customer satisfaction scores and the likelihood of churn, and how does this influence the development of churn prediction models?\n",
    "\n",
    "\n",
    "\n",
    "\n"
   ]
  },
  {
   "cell_type": "code",
   "execution_count": 45,
   "id": "e40a85e5",
   "metadata": {
    "scrolled": true
   },
   "outputs": [
    {
     "data": {
      "text/plain": [
       "Female    1139\n",
       "Male       898\n",
       "Name: Gender, dtype: int64"
      ]
     },
     "execution_count": 45,
     "metadata": {},
     "output_type": "execute_result"
    }
   ],
   "source": [
    "churned[\"Gender\"].value_counts()"
   ]
  },
  {
   "cell_type": "code",
   "execution_count": 46,
   "id": "5bd89c82",
   "metadata": {},
   "outputs": [
    {
     "data": {
      "text/plain": [
       "Male      4559\n",
       "Female    3404\n",
       "Name: Gender, dtype: int64"
      ]
     },
     "execution_count": 46,
     "metadata": {},
     "output_type": "execute_result"
    }
   ],
   "source": [
    "stayed[\"Gender\"].value_counts()"
   ]
  },
  {
   "cell_type": "markdown",
   "id": "1b545296",
   "metadata": {},
   "source": [
    "    *females stayed very few period,compared to male\n",
    "    *male churned more period compared to female"
   ]
  },
  {
   "cell_type": "markdown",
   "id": "6e181df3",
   "metadata": {},
   "source": [
    "###### **7** What are the key features that exhibit the highest variability between churned and non-churned customers, and how can you leverage this information for feature selection?"
   ]
  },
  {
   "cell_type": "code",
   "execution_count": 47,
   "id": "d0f7d4ab",
   "metadata": {},
   "outputs": [
    {
     "data": {
      "text/plain": [
       "Balance            4487.245885\n",
       "CustomerId          948.388979\n",
       "EstimatedSalary     506.831105\n",
       "CreditScore           4.667666\n",
       "Age                   0.363801\n",
       "dtype: float64"
      ]
     },
     "execution_count": 47,
     "metadata": {},
     "output_type": "execute_result"
    }
   ],
   "source": [
    "high_variability_features = (churned.std()-stayed.std()).abs().sort_values(ascending=False)\n",
    "high_variability_features.head()"
   ]
  },
  {
   "cell_type": "markdown",
   "id": "492f7a8c",
   "metadata": {},
   "source": [
    "high_variability_features calculates the absolute difference in standard deviation between churned and non-churned customers and sorts the features in descending order, highlighting the features with the highest variability."
   ]
  },
  {
   "cell_type": "markdown",
   "id": "5fe56d12",
   "metadata": {},
   "source": [
    "###### **8** Are there any outliers in the dataset that could potentially skew the results of the churn prediction model, and how should you handle these outliers?"
   ]
  },
  {
   "cell_type": "code",
   "execution_count": 48,
   "id": "b795f173",
   "metadata": {},
   "outputs": [],
   "source": [
    "q1 = churn.quantile(0.25)\n",
    "q3 = churn.quantile(0.75)\n",
    "IQR = q3-q1\n",
    "lower_bound = q1 - 1.5 * IQR\n",
    "upper_bound = q3 - 1.5 * IQR"
   ]
  },
  {
   "cell_type": "code",
   "execution_count": 49,
   "id": "1bc5973d",
   "metadata": {},
   "outputs": [
    {
     "data": {
      "text/plain": [
       "True    10000\n",
       "dtype: int64"
      ]
     },
     "execution_count": 49,
     "metadata": {},
     "output_type": "execute_result"
    }
   ],
   "source": [
    "outliers =((churn < lower_bound )|(churn > upper_bound)).any(axis=1)\n",
    "outliers.value_counts()"
   ]
  },
  {
   "cell_type": "markdown",
   "id": "b1db6fc0",
   "metadata": {},
   "source": [
    "###### **9** What is the distribution of customer churn across different demographic segments such as age groups, income levels, and geographical locations, and how does this influence the development of targeted retention strategies?"
   ]
  },
  {
   "cell_type": "code",
   "execution_count": 52,
   "id": "70b3a175",
   "metadata": {},
   "outputs": [],
   "source": [
    "age_bins = [0, 18, 35, 50, 65, 100]  \n",
    "age_labels = ['<18', '18-35', '36-50', '51-65', '65+'] "
   ]
  },
  {
   "cell_type": "code",
   "execution_count": 53,
   "id": "e2acfb17",
   "metadata": {},
   "outputs": [],
   "source": [
    "churn['AgeGroup'] = pd.cut(churn['Age'], bins=age_bins, labels=age_labels)"
   ]
  },
  {
   "cell_type": "code",
   "execution_count": 54,
   "id": "edf226a4",
   "metadata": {},
   "outputs": [],
   "source": [
    "churn_rate_by_age_grp = churn.groupby('Age')['Exited'].mean() * 100\n"
   ]
  },
  {
   "cell_type": "code",
   "execution_count": 55,
   "id": "17fd37db",
   "metadata": {},
   "outputs": [
    {
     "name": "stdout",
     "output_type": "stream",
     "text": [
      "Age\n",
      "18     9.090909\n",
      "19     3.703704\n",
      "20     5.000000\n",
      "21     5.660377\n",
      "22    14.285714\n",
      "        ...    \n",
      "83     0.000000\n",
      "84    50.000000\n",
      "85     0.000000\n",
      "88     0.000000\n",
      "92     0.000000\n",
      "Name: Exited, Length: 70, dtype: float64\n"
     ]
    }
   ],
   "source": [
    "print(churn_rate_by_age_grp)"
   ]
  },
  {
   "cell_type": "code",
   "execution_count": null,
   "id": "a6812006",
   "metadata": {},
   "outputs": [],
   "source": []
  },
  {
   "cell_type": "code",
   "execution_count": null,
   "id": "76623309",
   "metadata": {},
   "outputs": [],
   "source": []
  },
  {
   "cell_type": "code",
   "execution_count": null,
   "id": "30bab064",
   "metadata": {},
   "outputs": [],
   "source": []
  },
  {
   "cell_type": "code",
   "execution_count": null,
   "id": "7212be02",
   "metadata": {},
   "outputs": [],
   "source": []
  },
  {
   "cell_type": "code",
   "execution_count": null,
   "id": "5f472212",
   "metadata": {},
   "outputs": [],
   "source": []
  },
  {
   "cell_type": "code",
   "execution_count": null,
   "id": "5f7014b8",
   "metadata": {},
   "outputs": [],
   "source": []
  },
  {
   "cell_type": "markdown",
   "id": "1441adc4",
   "metadata": {},
   "source": [
    "###### **10** What is the range of customer satisfaction scores among churned customers, and how does this range compare to that of retained customers, indicating potential areas for improvement in service quality and customer experience"
   ]
  },
  {
   "cell_type": "code",
   "execution_count": 56,
   "id": "553ebf1f",
   "metadata": {
    "scrolled": true
   },
   "outputs": [
    {
     "data": {
      "text/plain": [
       "0"
      ]
     },
     "execution_count": 56,
     "metadata": {},
     "output_type": "execute_result"
    }
   ],
   "source": [
    "churned_satis_min = churned[\"IsActiveMember\"].min()\n",
    "churned_satis_min"
   ]
  },
  {
   "cell_type": "code",
   "execution_count": 57,
   "id": "559acc66",
   "metadata": {},
   "outputs": [
    {
     "data": {
      "text/plain": [
       "array([1, 0], dtype=int64)"
      ]
     },
     "execution_count": 57,
     "metadata": {},
     "output_type": "execute_result"
    }
   ],
   "source": [
    "churned[\"IsActiveMember\"].unique()"
   ]
  },
  {
   "cell_type": "code",
   "execution_count": 58,
   "id": "cc06f746",
   "metadata": {},
   "outputs": [
    {
     "data": {
      "text/plain": [
       "1"
      ]
     },
     "execution_count": 58,
     "metadata": {},
     "output_type": "execute_result"
    }
   ],
   "source": [
    "churned_satis_max = churned[\"IsActiveMember\"].max()\n",
    "churned_satis_max"
   ]
  },
  {
   "cell_type": "code",
   "execution_count": 59,
   "id": "94aca481",
   "metadata": {},
   "outputs": [
    {
     "data": {
      "text/plain": [
       "0"
      ]
     },
     "execution_count": 59,
     "metadata": {},
     "output_type": "execute_result"
    }
   ],
   "source": [
    "stayed_satis_max = stayed[\"IsActiveMember\"].min()\n",
    "stayed_satis_max"
   ]
  },
  {
   "cell_type": "code",
   "execution_count": 60,
   "id": "afdfe3d9",
   "metadata": {},
   "outputs": [
    {
     "data": {
      "text/plain": [
       "1"
      ]
     },
     "execution_count": 60,
     "metadata": {},
     "output_type": "execute_result"
    }
   ],
   "source": [
    "stayed_satis_max = stayed[\"IsActiveMember\"].max()\n",
    "stayed_satis_max"
   ]
  },
  {
   "cell_type": "markdown",
   "id": "1c547028",
   "metadata": {},
   "source": [
    "    Range of Satisfaction Scores for Churned Customers: (0,1)\n",
    "    Range of Satisfaction Scores for stayed Customers: (0,1)   "
   ]
  },
  {
   "cell_type": "code",
   "execution_count": null,
   "id": "293e1725",
   "metadata": {},
   "outputs": [],
   "source": []
  },
  {
   "cell_type": "code",
   "execution_count": null,
   "id": "7266986c",
   "metadata": {},
   "outputs": [],
   "source": []
  },
  {
   "cell_type": "markdown",
   "id": "3726772e",
   "metadata": {},
   "source": [
    "###### **11** What is the correlation between the timing of customer interactions, such as the frequency of product usage or customer service contacts, and the likelihood of churn, and how can this information be leveraged to develop proactive customer retention interventions?\n"
   ]
  },
  {
   "cell_type": "code",
   "execution_count": null,
   "id": "50b273ab",
   "metadata": {},
   "outputs": [],
   "source": []
  },
  {
   "cell_type": "code",
   "execution_count": null,
   "id": "83156d11",
   "metadata": {},
   "outputs": [],
   "source": []
  },
  {
   "cell_type": "code",
   "execution_count": null,
   "id": "95326e95",
   "metadata": {},
   "outputs": [],
   "source": []
  },
  {
   "cell_type": "markdown",
   "id": "ec888f57",
   "metadata": {},
   "source": [
    "###### **12** Are there any significant differences in the average account balances between churned and retained customers, and how do these differences impact the bank's revenue and customer retention strategies?"
   ]
  },
  {
   "cell_type": "code",
   "execution_count": 82,
   "id": "03447bdd",
   "metadata": {},
   "outputs": [
    {
     "data": {
      "text/plain": [
       "91108.53933726068"
      ]
     },
     "execution_count": 82,
     "metadata": {},
     "output_type": "execute_result"
    }
   ],
   "source": [
    "churned_bal_avg = churned[\"Balance\"].mean()\n",
    "churned_bal_avg"
   ]
  },
  {
   "cell_type": "code",
   "execution_count": 63,
   "id": "fa1e75c3",
   "metadata": {},
   "outputs": [
    {
     "data": {
      "text/plain": [
       "72745.2967788522"
      ]
     },
     "execution_count": 63,
     "metadata": {},
     "output_type": "execute_result"
    }
   ],
   "source": [
    "stayed_bal_avg = stayed[\"Balance\"].mean()\n",
    "stayed_bal_avg"
   ]
  },
  {
   "cell_type": "code",
   "execution_count": null,
   "id": "88f66a29",
   "metadata": {},
   "outputs": [],
   "source": []
  },
  {
   "cell_type": "markdown",
   "id": "8506023e",
   "metadata": {},
   "source": [
    "average account balances is more for churned customers than stayed customers"
   ]
  },
  {
   "cell_type": "code",
   "execution_count": null,
   "id": "1f49d156",
   "metadata": {},
   "outputs": [],
   "source": []
  },
  {
   "cell_type": "code",
   "execution_count": null,
   "id": "3316a99a",
   "metadata": {},
   "outputs": [],
   "source": []
  },
  {
   "cell_type": "markdown",
   "id": "338d0c60",
   "metadata": {},
   "source": [
    "###### **13** What is the range and standard deviation of customer credit scores or loan repayment histories among churned and retained customers, and how can this information guide the bank's risk assessment and lending practices?"
   ]
  },
  {
   "cell_type": "code",
   "execution_count": 64,
   "id": "6001415e",
   "metadata": {},
   "outputs": [
    {
     "data": {
      "text/plain": [
       "500"
      ]
     },
     "execution_count": 64,
     "metadata": {},
     "output_type": "execute_result"
    }
   ],
   "source": [
    "churned_range = churned[\"CreditScore\"].max() - churned[\"CreditScore\"].min()\n",
    "churned_range"
   ]
  },
  {
   "cell_type": "code",
   "execution_count": 65,
   "id": "4daab3ce",
   "metadata": {},
   "outputs": [
    {
     "data": {
      "text/plain": [
       "445"
      ]
     },
     "execution_count": 65,
     "metadata": {},
     "output_type": "execute_result"
    }
   ],
   "source": [
    "stayed_range = stayed[\"CreditScore\"].max() - stayed[\"CreditScore\"].min()\n",
    "stayed_range"
   ]
  },
  {
   "cell_type": "code",
   "execution_count": 66,
   "id": "f1769b2c",
   "metadata": {},
   "outputs": [
    {
     "data": {
      "text/plain": [
       "100.32150264961567"
      ]
     },
     "execution_count": 66,
     "metadata": {},
     "output_type": "execute_result"
    }
   ],
   "source": [
    "churned_std_cs = churned[\"CreditScore\"].std() \n",
    "churned_std_cs"
   ]
  },
  {
   "cell_type": "code",
   "execution_count": 67,
   "id": "d3fe4575",
   "metadata": {},
   "outputs": [
    {
     "data": {
      "text/plain": [
       "95.65383704715626"
      ]
     },
     "execution_count": 67,
     "metadata": {},
     "output_type": "execute_result"
    }
   ],
   "source": [
    "stayed_std_cs = stayed[\"CreditScore\"].std() \n",
    "stayed_std_cs"
   ]
  },
  {
   "cell_type": "markdown",
   "id": "5978b180",
   "metadata": {},
   "source": [
    "    Churned Customer Credit Score Range:\n",
    "        for churned customers = 500\n",
    "        for stayed customers = 445\n",
    "    from this we can say that churned customers(wider variability) have more diverse financial backgrounds"
   ]
  },
  {
   "cell_type": "markdown",
   "id": "f9c97522",
   "metadata": {},
   "source": [
    "\n",
    "    Churned Customer Credit Score Standard Deviation:\n",
    "         for churned customers = 100\n",
    "         for stayed customers = 95\n",
    "     the stability and reliability of repayment patterns among churned customers less than stayed customers\n",
    "\n",
    "\n"
   ]
  },
  {
   "cell_type": "markdown",
   "id": "50786fcd",
   "metadata": {},
   "source": [
    "###### **14** Calculate the Interquartile Range (IQR) for the customer age variable in the Bank Customer Churn Prediction dataset.Then, identify any potential outliers in the age distribution, and discuss how these outliers may impact the bank's understanding ofits customer demographics and their likelihood of churning"
   ]
  },
  {
   "cell_type": "code",
   "execution_count": 68,
   "id": "e699a714",
   "metadata": {},
   "outputs": [
    {
     "data": {
      "text/plain": [
       "RowNumber\n",
       "3513    18\n",
       "1679    18\n",
       "3518    18\n",
       "9521    18\n",
       "2022    18\n",
       "        ..\n",
       "3388    84\n",
       "3034    85\n",
       "2459    88\n",
       "6760    92\n",
       "6444    92\n",
       "Name: Age, Length: 10000, dtype: int64"
      ]
     },
     "execution_count": 68,
     "metadata": {},
     "output_type": "execute_result"
    }
   ],
   "source": [
    "churn[\"Age\"].sort_values()"
   ]
  },
  {
   "cell_type": "code",
   "execution_count": 69,
   "id": "eb56de62",
   "metadata": {},
   "outputs": [
    {
     "data": {
      "text/plain": [
       "32.0"
      ]
     },
     "execution_count": 69,
     "metadata": {},
     "output_type": "execute_result"
    }
   ],
   "source": [
    "age_q1 = churn[\"Age\"].quantile(0.25)\n",
    "age_q1"
   ]
  },
  {
   "cell_type": "code",
   "execution_count": 70,
   "id": "421767ac",
   "metadata": {},
   "outputs": [
    {
     "data": {
      "text/plain": [
       "44.0"
      ]
     },
     "execution_count": 70,
     "metadata": {},
     "output_type": "execute_result"
    }
   ],
   "source": [
    "age_q3 = churn[\"Age\"].quantile(0.75)\n",
    "age_q3"
   ]
  },
  {
   "cell_type": "markdown",
   "id": "957d029f",
   "metadata": {},
   "source": [
    "IQR = Q3 - Q2"
   ]
  },
  {
   "cell_type": "code",
   "execution_count": 71,
   "id": "427c1963",
   "metadata": {},
   "outputs": [
    {
     "data": {
      "text/plain": [
       "12.0"
      ]
     },
     "execution_count": 71,
     "metadata": {},
     "output_type": "execute_result"
    }
   ],
   "source": [
    "age_iqr = age_q3 - age_q1\n",
    "age_iqr"
   ]
  },
  {
   "cell_type": "markdown",
   "id": "9a4ec81e",
   "metadata": {},
   "source": [
    "    LOWER BOUND IQR = Q1 - 1.5 * IQR\n",
    "    UPPER BOUND IQR = Q3 + 1.5 * IQR\n"
   ]
  },
  {
   "cell_type": "code",
   "execution_count": 72,
   "id": "ac785f8b",
   "metadata": {},
   "outputs": [
    {
     "data": {
      "text/plain": [
       "366.0"
      ]
     },
     "execution_count": 72,
     "metadata": {},
     "output_type": "execute_result"
    }
   ],
   "source": [
    "age_lb_outlier = (age_q1 - 1.5) * age_iqr\n",
    "age_lb_outlier"
   ]
  },
  {
   "cell_type": "code",
   "execution_count": 73,
   "id": "c82a26e5",
   "metadata": {},
   "outputs": [
    {
     "data": {
      "text/plain": [
       "546.0"
      ]
     },
     "execution_count": 73,
     "metadata": {},
     "output_type": "execute_result"
    }
   ],
   "source": [
    "age_ub_outlier = (age_q3 + 1.5) * age_iqr\n",
    "age_ub_outlier"
   ]
  },
  {
   "cell_type": "markdown",
   "id": "9daf6587",
   "metadata": {},
   "source": [
    "points below lower bound and points above lower bound can be considered as outliers"
   ]
  },
  {
   "cell_type": "markdown",
   "id": "9d83c2d4",
   "metadata": {},
   "source": [
    "outliers help in refining churn prediction models"
   ]
  },
  {
   "cell_type": "code",
   "execution_count": null,
   "id": "c7042526",
   "metadata": {},
   "outputs": [],
   "source": []
  },
  {
   "cell_type": "code",
   "execution_count": null,
   "id": "b3b1e674",
   "metadata": {},
   "outputs": [],
   "source": []
  },
  {
   "cell_type": "code",
   "execution_count": null,
   "id": "d875b335",
   "metadata": {},
   "outputs": [],
   "source": []
  },
  {
   "cell_type": "code",
   "execution_count": null,
   "id": "d185c3c1",
   "metadata": {},
   "outputs": [],
   "source": []
  },
  {
   "cell_type": "code",
   "execution_count": null,
   "id": "371b955b",
   "metadata": {},
   "outputs": [],
   "source": []
  },
  {
   "cell_type": "code",
   "execution_count": null,
   "id": "0a5c81f4",
   "metadata": {},
   "outputs": [],
   "source": []
  }
 ],
 "metadata": {
  "kernelspec": {
   "display_name": "Python 3 (ipykernel)",
   "language": "python",
   "name": "python3"
  },
  "language_info": {
   "codemirror_mode": {
    "name": "ipython",
    "version": 3
   },
   "file_extension": ".py",
   "mimetype": "text/x-python",
   "name": "python",
   "nbconvert_exporter": "python",
   "pygments_lexer": "ipython3",
   "version": "3.10.9"
  }
 },
 "nbformat": 4,
 "nbformat_minor": 5
}
